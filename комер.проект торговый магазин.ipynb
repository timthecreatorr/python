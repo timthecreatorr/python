{
 "cells": [
  {
   "cell_type": "code",
   "execution_count": 1,
   "id": "8081c476",
   "metadata": {},
   "outputs": [],
   "source": [
    "from IPython.core.interactiveshell import InteractiveShell # доп. фича для удобства работы с ноутбуком\n",
    "InteractiveShell.ast_node_interactivity = \"all\"            # отображать все результаты при выводе\n",
    "#InteractiveShell.ast_node_interactivity = \"last_expr\"     # отображать только последнее выражение\n",
    "\n",
    "import pandas as pd\n",
    "import os"
   ]
  },
  {
   "cell_type": "markdown",
   "id": "34e35c66",
   "metadata": {
    "toc": true
   },
   "source": [
    "<h1>Оглавление<span class=\"tocSkip\"></span></h1>\n",
    "<div class=\"toc\"><ul class=\"toc-item\"><li><span><a href=\"#Описание-данных\" data-toc-modified-id=\"Описание-данных-1\"><span class=\"toc-item-num\">1&nbsp;&nbsp;</span>Описание данных</a></span></li><li><span><a href=\"#Дескриптивная-часть\" data-toc-modified-id=\"Дескриптивная-часть-2\"><span class=\"toc-item-num\">2&nbsp;&nbsp;</span>Дескриптивная часть</a></span></li><li><span><a href=\"#Первый-вариант-выкладки\" data-toc-modified-id=\"Первый-вариант-выкладки-3\"><span class=\"toc-item-num\">3&nbsp;&nbsp;</span>Первый вариант выкладки</a></span></li><li><span><a href=\"#Откуда-больше-покупают?\" data-toc-modified-id=\"Откуда-больше-покупают?-4\"><span class=\"toc-item-num\">4&nbsp;&nbsp;</span>Откуда больше покупают?</a></span></li><li><span><a href=\"#A/B-тест\" data-toc-modified-id=\"A/B-тест-5\"><span class=\"toc-item-num\">5&nbsp;&nbsp;</span>A/B тест</a></span></li><li><span><a href=\"#TOP-5\" data-toc-modified-id=\"TOP-5-6\"><span class=\"toc-item-num\">6&nbsp;&nbsp;</span>TOP-5</a></span></li></ul></div>"
   ]
  },
  {
   "cell_type": "markdown",
   "id": "1f94ef8c",
   "metadata": {},
   "source": [
    "# <span class=\"tocSkip\"></span> Тестовое задание по pandas и статистике"
   ]
  },
  {
   "cell_type": "markdown",
   "id": "9ec9e9dc",
   "metadata": {},
   "source": [
    "Данные к заданию находятся в файле test_data.csv."
   ]
  },
  {
   "cell_type": "code",
   "execution_count": 2,
   "id": "04e10b64",
   "metadata": {},
   "outputs": [],
   "source": [
    "# файл test_data.csv должен лежать в той же директории, что и исполняемый ноутбук\n",
    "file_path = os.getcwd() + '\\\\test_data.csv'"
   ]
  },
  {
   "cell_type": "code",
   "execution_count": 3,
   "id": "c5416202",
   "metadata": {},
   "outputs": [
    {
     "data": {
      "text/html": [
       "<div>\n",
       "<style scoped>\n",
       "    .dataframe tbody tr th:only-of-type {\n",
       "        vertical-align: middle;\n",
       "    }\n",
       "\n",
       "    .dataframe tbody tr th {\n",
       "        vertical-align: top;\n",
       "    }\n",
       "\n",
       "    .dataframe thead th {\n",
       "        text-align: right;\n",
       "    }\n",
       "</style>\n",
       "<table border=\"1\" class=\"dataframe\">\n",
       "  <thead>\n",
       "    <tr style=\"text-align: right;\">\n",
       "      <th></th>\n",
       "      <th>Uid</th>\n",
       "      <th>Type</th>\n",
       "      <th>order</th>\n",
       "      <th>SKU</th>\n",
       "      <th>Price</th>\n",
       "      <th>Quantity</th>\n",
       "      <th>Time_in_hand</th>\n",
       "      <th>Time_after_prev</th>\n",
       "      <th>Id_stillage</th>\n",
       "      <th>Id_shelf</th>\n",
       "      <th>cat</th>\n",
       "      <th>type_good</th>\n",
       "    </tr>\n",
       "  </thead>\n",
       "  <tbody>\n",
       "    <tr>\n",
       "      <th>0</th>\n",
       "      <td>id_1</td>\n",
       "      <td>1</td>\n",
       "      <td>1</td>\n",
       "      <td>4192617</td>\n",
       "      <td>43</td>\n",
       "      <td>1</td>\n",
       "      <td>2,951</td>\n",
       "      <td>142,608</td>\n",
       "      <td>6</td>\n",
       "      <td>2</td>\n",
       "      <td>Творожки</td>\n",
       "      <td>2</td>\n",
       "    </tr>\n",
       "    <tr>\n",
       "      <th>1</th>\n",
       "      <td>id_2</td>\n",
       "      <td>1</td>\n",
       "      <td>1</td>\n",
       "      <td>3612607</td>\n",
       "      <td>60</td>\n",
       "      <td>1</td>\n",
       "      <td>4,259</td>\n",
       "      <td>53,218</td>\n",
       "      <td>7</td>\n",
       "      <td>4</td>\n",
       "      <td>Йогурты свежие</td>\n",
       "      <td>0</td>\n",
       "    </tr>\n",
       "    <tr>\n",
       "      <th>2</th>\n",
       "      <td>id_3</td>\n",
       "      <td>1</td>\n",
       "      <td>1</td>\n",
       "      <td>4223187</td>\n",
       "      <td>37</td>\n",
       "      <td>1</td>\n",
       "      <td>4,155</td>\n",
       "      <td>51,471</td>\n",
       "      <td>7</td>\n",
       "      <td>3</td>\n",
       "      <td>Кисломолочные</td>\n",
       "      <td>0</td>\n",
       "    </tr>\n",
       "    <tr>\n",
       "      <th>3</th>\n",
       "      <td>id_4</td>\n",
       "      <td>1</td>\n",
       "      <td>1</td>\n",
       "      <td>4000341</td>\n",
       "      <td>71</td>\n",
       "      <td>1</td>\n",
       "      <td>4,305</td>\n",
       "      <td>44,232</td>\n",
       "      <td>6</td>\n",
       "      <td>2</td>\n",
       "      <td>Творожки</td>\n",
       "      <td>2</td>\n",
       "    </tr>\n",
       "    <tr>\n",
       "      <th>4</th>\n",
       "      <td>id_5</td>\n",
       "      <td>1</td>\n",
       "      <td>1</td>\n",
       "      <td>3203100</td>\n",
       "      <td>49</td>\n",
       "      <td>2</td>\n",
       "      <td>0,35</td>\n",
       "      <td>0,402</td>\n",
       "      <td>6</td>\n",
       "      <td>3</td>\n",
       "      <td>Творожки</td>\n",
       "      <td>2</td>\n",
       "    </tr>\n",
       "    <tr>\n",
       "      <th>5</th>\n",
       "      <td>id_6</td>\n",
       "      <td>1</td>\n",
       "      <td>1</td>\n",
       "      <td>3199753</td>\n",
       "      <td>49</td>\n",
       "      <td>1</td>\n",
       "      <td>0,215</td>\n",
       "      <td>0,972</td>\n",
       "      <td>6</td>\n",
       "      <td>3</td>\n",
       "      <td>Творожки</td>\n",
       "      <td>2</td>\n",
       "    </tr>\n",
       "    <tr>\n",
       "      <th>6</th>\n",
       "      <td>id_7</td>\n",
       "      <td>1</td>\n",
       "      <td>1</td>\n",
       "      <td>3601528</td>\n",
       "      <td>69</td>\n",
       "      <td>1</td>\n",
       "      <td>0,251</td>\n",
       "      <td>0,85</td>\n",
       "      <td>5</td>\n",
       "      <td>3</td>\n",
       "      <td>Йогурты свежие</td>\n",
       "      <td>0</td>\n",
       "    </tr>\n",
       "    <tr>\n",
       "      <th>7</th>\n",
       "      <td>id_8</td>\n",
       "      <td>1</td>\n",
       "      <td>1</td>\n",
       "      <td>3255795</td>\n",
       "      <td>89</td>\n",
       "      <td>1</td>\n",
       "      <td>2,848</td>\n",
       "      <td>87,39</td>\n",
       "      <td>1</td>\n",
       "      <td>5</td>\n",
       "      <td>Молоко пастер</td>\n",
       "      <td>1</td>\n",
       "    </tr>\n",
       "    <tr>\n",
       "      <th>8</th>\n",
       "      <td>id_9</td>\n",
       "      <td>1</td>\n",
       "      <td>1</td>\n",
       "      <td>3612568</td>\n",
       "      <td>60</td>\n",
       "      <td>1</td>\n",
       "      <td>0,565</td>\n",
       "      <td>0,569</td>\n",
       "      <td>7</td>\n",
       "      <td>4</td>\n",
       "      <td>Йогурты свежие</td>\n",
       "      <td>0</td>\n",
       "    </tr>\n",
       "    <tr>\n",
       "      <th>9</th>\n",
       "      <td>id_10</td>\n",
       "      <td>1</td>\n",
       "      <td>1</td>\n",
       "      <td>3255795</td>\n",
       "      <td>89</td>\n",
       "      <td>2</td>\n",
       "      <td>3,555</td>\n",
       "      <td>32,237</td>\n",
       "      <td>1</td>\n",
       "      <td>5</td>\n",
       "      <td>Молоко пастер</td>\n",
       "      <td>1</td>\n",
       "    </tr>\n",
       "  </tbody>\n",
       "</table>\n",
       "</div>"
      ],
      "text/plain": [
       "     Uid  Type  order      SKU  Price  Quantity Time_in_hand Time_after_prev  \\\n",
       "0   id_1     1      1  4192617     43         1        2,951         142,608   \n",
       "1   id_2     1      1  3612607     60         1        4,259          53,218   \n",
       "2   id_3     1      1  4223187     37         1        4,155          51,471   \n",
       "3   id_4     1      1  4000341     71         1        4,305          44,232   \n",
       "4   id_5     1      1  3203100     49         2         0,35           0,402   \n",
       "5   id_6     1      1  3199753     49         1        0,215           0,972   \n",
       "6   id_7     1      1  3601528     69         1        0,251            0,85   \n",
       "7   id_8     1      1  3255795     89         1        2,848           87,39   \n",
       "8   id_9     1      1  3612568     60         1        0,565           0,569   \n",
       "9  id_10     1      1  3255795     89         2        3,555          32,237   \n",
       "\n",
       "   Id_stillage  Id_shelf             cat  type_good  \n",
       "0            6         2        Творожки          2  \n",
       "1            7         4  Йогурты свежие          0  \n",
       "2            7         3  Кисломолочные           0  \n",
       "3            6         2        Творожки          2  \n",
       "4            6         3        Творожки          2  \n",
       "5            6         3        Творожки          2  \n",
       "6            5         3  Йогурты свежие          0  \n",
       "7            1         5   Молоко пастер          1  \n",
       "8            7         4  Йогурты свежие          0  \n",
       "9            1         5   Молоко пастер          1  "
      ]
     },
     "execution_count": 3,
     "metadata": {},
     "output_type": "execute_result"
    }
   ],
   "source": [
    "data_AvB = pd.read_csv(file_path, sep = ';', header=0)\n",
    "data_AvB.head(10) # посмотреть на данные"
   ]
  },
  {
   "cell_type": "markdown",
   "id": "ff0709f9",
   "metadata": {},
   "source": [
    "# Описание данных"
   ]
  },
  {
   "attachments": {},
   "cell_type": "markdown",
   "id": "4d78d3e8",
   "metadata": {},
   "source": [
    "Покупатели совершали покупки в двух магазинах с идентичными товарами, но немного разным расположением этих товаров на полках.\n",
    "\n",
    "В ходе исследования максимальное количество возможных покупок было искусственно ограничено до 10 (можно считать, что рассматриваются только первые 10 покупок)\n",
    "\n",
    "- Uid: уникальный id покупателя (от 1 до 300)\n",
    "- Type: тип тестируемого варианта расположения товаров (1 или 2)\n",
    "- order: номер покупки (от 1 до 10)\n",
    "- SKU: внутренний код товара (stock keeping unit)\n",
    "- Price: цена одного купленного SKU, в руб\n",
    "- Quantity: количество купленных штук этого товара\n",
    "- Time_in_hand: время, которое покупатель держал товар в руке, в сек\n",
    "- Time_after_prev: время, которое прошло с момента покупки предыдущего товара (с момента помещения его в корзину), в сек. Для первого товара - время от начала покупок\n",
    "- Id_stillage: номер стеллажа, в котором лежал товар (нумерация слева направо)\n",
    "- Id_shelf: номер полки, на которой лежал товар (нумерация снизу вверх)\n",
    "- cat: название категории\n",
    "- type_good: тип товара"
   ]
  },
  {
   "cell_type": "markdown",
   "id": "74ab1d9b",
   "metadata": {},
   "source": [
    "# Дескриптивная часть"
   ]
  },
  {
   "cell_type": "markdown",
   "id": "a267bc3c",
   "metadata": {},
   "source": [
    "1. Сколько всего стеллажей в тестируемых магазинах?\n",
    "2. Сколько полок у стеллажей, размещённых в магазине?\n",
    "3. Сколько всего различных товаров на полках?\n",
    "4. Сколько различных товаров и сколько штук купил первый респондент (Uid = id_1) для первого варианта выкладки (Type = 1) и сколько для второго (Type = 2)?"
   ]
  },
  {
   "cell_type": "code",
   "execution_count": 34,
   "id": "62788e6f",
   "metadata": {},
   "outputs": [
    {
     "data": {
      "text/html": [
       "<div>\n",
       "<style scoped>\n",
       "    .dataframe tbody tr th:only-of-type {\n",
       "        vertical-align: middle;\n",
       "    }\n",
       "\n",
       "    .dataframe tbody tr th {\n",
       "        vertical-align: top;\n",
       "    }\n",
       "\n",
       "    .dataframe thead th {\n",
       "        text-align: right;\n",
       "    }\n",
       "</style>\n",
       "<table border=\"1\" class=\"dataframe\">\n",
       "  <thead>\n",
       "    <tr style=\"text-align: right;\">\n",
       "      <th></th>\n",
       "      <th>Вопрос</th>\n",
       "      <th>Ответ</th>\n",
       "    </tr>\n",
       "  </thead>\n",
       "  <tbody>\n",
       "    <tr>\n",
       "      <th>0</th>\n",
       "      <td>Сколько всего стеллажей?</td>\n",
       "      <td>7</td>\n",
       "    </tr>\n",
       "    <tr>\n",
       "      <th>1</th>\n",
       "      <td>Сколько полок у стеллажей?</td>\n",
       "      <td>6</td>\n",
       "    </tr>\n",
       "    <tr>\n",
       "      <th>2</th>\n",
       "      <td>Сколько всего различных товаров?</td>\n",
       "      <td>317</td>\n",
       "    </tr>\n",
       "    <tr>\n",
       "      <th>3</th>\n",
       "      <td>Уникальных SKU у id_1 (Type=1)</td>\n",
       "      <td>4</td>\n",
       "    </tr>\n",
       "    <tr>\n",
       "      <th>4</th>\n",
       "      <td>Всего штук у id_1 (Type=1)</td>\n",
       "      <td>5</td>\n",
       "    </tr>\n",
       "    <tr>\n",
       "      <th>5</th>\n",
       "      <td>Уникальных SKU у id_1 (Type=2)</td>\n",
       "      <td>5</td>\n",
       "    </tr>\n",
       "    <tr>\n",
       "      <th>6</th>\n",
       "      <td>Всего штук у id_1 (Type=2)</td>\n",
       "      <td>5</td>\n",
       "    </tr>\n",
       "  </tbody>\n",
       "</table>\n",
       "</div>"
      ],
      "text/plain": [
       "                             Вопрос  Ответ\n",
       "0          Сколько всего стеллажей?      7\n",
       "1        Сколько полок у стеллажей?      6\n",
       "2  Сколько всего различных товаров?    317\n",
       "3    Уникальных SKU у id_1 (Type=1)      4\n",
       "4        Всего штук у id_1 (Type=1)      5\n",
       "5    Уникальных SKU у id_1 (Type=2)      5\n",
       "6        Всего штук у id_1 (Type=2)      5"
      ]
     },
     "metadata": {},
     "output_type": "display_data"
    }
   ],
   "source": [
    "# 1\n",
    "stillages = data_AvB['Id_stillage'].nunique()\n",
    "\n",
    "# 2\n",
    "shelves = data_AvB['Id_shelf'].nunique()\n",
    "\n",
    "# 3\n",
    "skus = data_AvB['SKU'].nunique()\n",
    "\n",
    "# 4.\n",
    "id_1_data = data_AvB[data_AvB['Uid'] == 'id_1']\n",
    "\n",
    "# Для Type = 1 (изученные)\n",
    "type1_data = id_1_data[id_1_data['Type'] == 1]\n",
    "type1_unique_skus = type1_data['SKU'].nunique()\n",
    "type1_total_quantity = type1_data['Quantity'].sum()\n",
    "\n",
    "# Для Type = 2 (купленные)\n",
    "type2_data = id_1_data[id_1_data['Type'] == 2]\n",
    "type2_unique_skus = type2_data['SKU'].nunique()\n",
    "type2_total_quantity = type2_data['Quantity'].sum()\n",
    "\n",
    "answers = {\"Вопрос\": [\n",
    "        \"Сколько всего стеллажей?\",\n",
    "        \"Сколько полок у стеллажей?\",\n",
    "        \"Сколько всего различных товаров?\",\n",
    "        \"Уникальных SKU у id_1 (Type=1)\",\n",
    "        \"Всего штук у id_1 (Type=1)\",\n",
    "        \"Уникальных SKU у id_1 (Type=2)\",\n",
    "        \"Всего штук у id_1 (Type=2)\"],\n",
    "    \"Ответ\": [\n",
    "        stillages,\n",
    "        shelves,\n",
    "        skus,\n",
    "        type1_unique_skus,\n",
    "        type1_total_quantity,\n",
    "        type2_unique_skus,\n",
    "        type2_total_quantity]}\n",
    "answers_df = pd.DataFrame(answers)\n",
    "display(answers_df)"
   ]
  },
  {
   "cell_type": "markdown",
   "id": "d347243a",
   "metadata": {},
   "source": [
    "# Первый вариант выкладки"
   ]
  },
  {
   "cell_type": "markdown",
   "id": "6a8b1c65",
   "metadata": {},
   "source": [
    "Вычислить общее количество денег, затраченных покупателями на все товары, для 1 типа выкладки."
   ]
  },
  {
   "cell_type": "code",
   "execution_count": 25,
   "id": "dd2d0845",
   "metadata": {},
   "outputs": [
    {
     "name": "stdout",
     "output_type": "stream",
     "text": [
      "Общая сумма потраченных денег при первом типе выкладки: 163990 рублей\n"
     ]
    }
   ],
   "source": [
    "type1_purchases = data_AvB[(data_AvB['Type'] == 1) & (data_AvB['Quantity'] > 0)]\n",
    "type1_total = (type1_purchases['Price'] * type1_purchases['Quantity']).sum()\n",
    "print(f\"Общая сумма потраченных денег при первом типе выкладки: {type1_total} рублей\")"
   ]
  },
  {
   "cell_type": "markdown",
   "id": "3fc87bbe",
   "metadata": {},
   "source": [
    "# Откуда больше покупают?"
   ]
  },
  {
   "cell_type": "markdown",
   "id": "0172c887",
   "metadata": {},
   "source": [
    "Вычислить частоту покупки с каждой из полок для каждого стеллажа с 2 типа выкладки."
   ]
  },
  {
   "cell_type": "code",
   "execution_count": 84,
   "id": "3b9ff22b",
   "metadata": {},
   "outputs": [
    {
     "name": "stdout",
     "output_type": "stream",
     "text": [
      "    Id_stillage  Id_shelf  Quantity\n",
      "0             1         1        67\n",
      "1             1         2       135\n",
      "2             1         3        17\n",
      "3             1         4       111\n",
      "4             1         5        16\n",
      "5             2         2        30\n",
      "6             2         3        50\n",
      "7             2         4        25\n",
      "8             2         5        27\n",
      "9             3         1         9\n",
      "10            3         2         8\n",
      "11            3         3        35\n",
      "12            3         4        42\n",
      "13            3         5        31\n",
      "14            3         6        47\n",
      "15            4         1        12\n",
      "16            4         2         4\n",
      "17            4         3        13\n",
      "18            4         4         9\n",
      "19            4         5        22\n",
      "20            4         6        30\n",
      "21            5         1        19\n",
      "22            5         2         4\n",
      "23            5         3       189\n",
      "24            5         4        99\n",
      "25            5         5        24\n",
      "26            5         6        53\n",
      "27            6         1        17\n",
      "28            6         2        80\n",
      "29            6         3       102\n",
      "30            6         4       529\n",
      "31            6         5         6\n",
      "32            6         6        18\n",
      "33            7         1        19\n",
      "34            7         2        12\n",
      "35            7         3        84\n",
      "36            7         4        39\n",
      "37            7         5         9\n",
      "38            7         6         5\n"
     ]
    },
    {
     "data": {
      "image/png": "[encoded data removed]",
      "text/plain": [
       "<Figure size 1000x600 with 2 Axes>"
      ]
     },
     "metadata": {},
     "output_type": "display_data"
    }
   ],
   "source": [
    "import matplotlib.pyplot as plt\n",
    "import seaborn as sns\n",
    "\n",
    "purchases_type2 = data_AvB[data_AvB['Type'] == 2]\n",
    "purchase_frequency = purchases_type2.groupby(['Id_stillage', 'Id_shelf'])['Quantity'].sum().reset_index()\n",
    "purchase_frequency = purchase_frequency.sort_values(by=['Id_stillage', 'Id_shelf'])\n",
    "print(purchase_frequency)\n",
    "\n",
    "heatmap_data = purchase_frequency.pivot(index='Id_stillage', columns='Id_shelf', values='Quantity').fillna(0)\n",
    "plt.figure(figsize=(10, 6))\n",
    "sns.heatmap(heatmap_data, annot=True, fmt=\".0f\", cmap=\"YlOrRd\")\n",
    "plt.title(\"Частота покупок по полкам и стеллажам (Type=2)\")\n",
    "plt.xlabel(\"Номер полки\")\n",
    "plt.ylabel(\"Номер стеллажа\")\n",
    "plt.tight_layout()\n",
    "plt.show();"
   ]
  },
  {
   "cell_type": "markdown",
   "id": "21e2b5b2",
   "metadata": {},
   "source": [
    "# A/B тест"
   ]
  },
  {
   "cell_type": "code",
   "execution_count": 36,
   "id": "517ea8ea",
   "metadata": {},
   "outputs": [],
   "source": [
    "import scipy.stats as st"
   ]
  },
  {
   "cell_type": "markdown",
   "id": "7937caab",
   "metadata": {},
   "source": [
    "- Вычислить общие траты с 1 стеллажа отдельно для 1 и для 2 варианта выкладки (если была проведена предобработка данных, описать какая именно).\n",
    "\n",
    "- Выполнить стат. тест (сравнить средние): пояснить, какой тест был выбран (и почему), как устроена критическая область, какие есть другие варианты тестов (и если есть, сказать про границы их применимости).\n",
    "\n",
    "- Какой вывод можно сделать?"
   ]
  },
  {
   "cell_type": "code",
   "execution_count": 88,
   "id": "827fc382",
   "metadata": {},
   "outputs": [
    {
     "name": "stdout",
     "output_type": "stream",
     "text": [
      "A/B Test Results:\n",
      "Средняя трата для Type=1: 119.17\n",
      "Средняя трата для Type=2: 109.00\n",
      "T-статистика: 2.2149\n",
      "P-значение: 0.0272\n",
      "Различие статистически значимо: можно утверждать, что тип выкладки влияет на траты.\n"
     ]
    },
    {
     "data": {
      "image/png": "[encoded data removed]",
      "text/plain": [
       "<Figure size 800x500 with 1 Axes>"
      ]
     },
     "metadata": {},
     "output_type": "display_data"
    }
   ],
   "source": [
    "from scipy.stats import ttest_ind\n",
    "\n",
    "shelf1_data = data_AvB[data_AvB[\"Id_stillage\"] == 1].copy()\n",
    "shelf1_data.loc[:, \"total_spent\"] = shelf1_data[\"Price\"] * shelf1_data[\"Quantity\"]\n",
    "\n",
    "a = shelf1_data[shelf1_data[\"Type\"] == 1][\"total_spent\"]\n",
    "b = shelf1_data[shelf1_data[\"Type\"] == 2][\"total_spent\"]\n",
    "\n",
    "stat, p_value = ttest_ind(a, b, equal_var=False)\n",
    "\n",
    "print(\"A/B Test Results:\")\n",
    "print(f\"Средняя трата для Type=1: {a.mean():.2f}\")\n",
    "print(f\"Средняя трата для Type=2: {b.mean():.2f}\")\n",
    "print(f\"T-статистика: {stat:.4f}\")\n",
    "print(f\"P-значение: {p_value:.4f}\")\n",
    "\n",
    "alpha = 0.05\n",
    "if p_value < alpha:\n",
    "    print(\"Различие статистически значимо: можно утверждать, что тип выкладки влияет на траты.\")\n",
    "else:\n",
    "    print(\"Различие НЕ статистически значимо: тип выкладки не оказывает значимого влияния.\")\n",
    "\n",
    "plt.figure(figsize=(8, 5))\n",
    "sns.boxplot(x=\"Type\", y=\"total_spent\", data=shelf1_data)\n",
    "plt.title(\"Распределение трат по типу выкладки (Type) для 1-го стеллажа\")\n",
    "plt.xlabel(\"Тип выкладки (Type)\")\n",
    "plt.ylabel(\"Траты (total_spent)\")\n",
    "plt.grid(axis='y', linestyle='--', alpha=0.7)\n",
    "plt.tight_layout()\n",
    "plt.show();"
   ]
  },
  {
   "cell_type": "markdown",
   "id": "de19e70b-6e48-4625-82c8-0b39b0b31d0d",
   "metadata": {},
   "source": [
    "Для проверки гипотезы о различии средних трат между двумя группами (Type = 1 и Type = 2) был выбран независимый t-тест (Welch’s t-test) из библиотеки scipy.stats. Этот тест применим, когда, сравниваются две независимые группы; данные количественные и допускается разная дисперсия в группах (в отличие от классического t-теста, где дисперсии равны).\n",
    "Уровень значимости: α = 0.05\n",
    "Если p-value < 0.05, значит различие статистически значимо, и мы отвергаем нулевую гипотезу (что разницы нет).\n",
    "На графике (boxplot) видно распределение трат по двум типам выкладки. Среднее значение у Type = 1 оказалось немного выше, но не кардинально.\n",
    "Средняя трата (Type=1): 119.17\n",
    "Средняя трата (Type=2): 109.00\n",
    "Т-статистика: 2.2149\n",
    "P-значение: 0.0272\n",
    "Вывод:\n",
    "P-значение меньше 0.05 - различие статистически значимо.\n",
    "Можно утверждать, что тип выкладки оказывает влияние на траты покупателей."
   ]
  },
  {
   "cell_type": "markdown",
   "id": "e03aeb4f",
   "metadata": {},
   "source": [
    "# TOP-5"
   ]
  },
  {
   "cell_type": "markdown",
   "id": "1ba1b211",
   "metadata": {},
   "source": [
    "И для первого, и для второго варианта расположения товаров выяснить те пять SKU (кодов SKU), которые покупались чаще всего (т.е. сравнить лидеров по Quantity)."
   ]
  },
  {
   "cell_type": "code",
   "execution_count": 90,
   "id": "3ffdc0a0",
   "metadata": {},
   "outputs": [
    {
     "name": "stdout",
     "output_type": "stream",
     "text": [
      "   Top-5 SKU (Type=1)  Quantity (Type=1)  Top-5 SKU (Type=2)  \\\n",
      "0             3255206                120             3255206   \n",
      "1             3255795                110             3203097   \n",
      "2             3203097                 98             3255795   \n",
      "3             3203086                 86             3203104   \n",
      "4             3203104                 71             3203090   \n",
      "\n",
      "   Quantity (Type=2)  \n",
      "0                104  \n",
      "1                 97  \n",
      "2                 94  \n",
      "3                 84  \n",
      "4                 71  \n"
     ]
    },
    {
     "data": {
      "image/png": "[encoded data removed]",
      "text/plain": [
       "<Figure size 1200x500 with 2 Axes>"
      ]
     },
     "metadata": {},
     "output_type": "display_data"
    }
   ],
   "source": [
    "sku_popularity = data_AvB.groupby(['Type', 'SKU'])['Quantity'].sum().reset_index()\n",
    "top5_type1 = sku_popularity[sku_popularity['Type'] == 1].sort_values(by='Quantity', ascending=False).head(5)\n",
    "top5_type2 = sku_popularity[sku_popularity['Type'] == 2].sort_values(by='Quantity', ascending=False).head(5)\n",
    "top5_comparison = pd.DataFrame({\n",
    "    'Top-5 SKU (Type=1)': top5_type1['SKU'].values,\n",
    "    'Quantity (Type=1)': top5_type1['Quantity'].values,\n",
    "    'Top-5 SKU (Type=2)': top5_type2['SKU'].values,\n",
    "    'Quantity (Type=2)': top5_type2['Quantity'].values})\n",
    "print(top5_comparison)\n",
    "\n",
    "fig, axes = plt.subplots(1, 2, figsize=(12, 5))\n",
    "\n",
    "top5_type1 = data_AvB[data_AvB[\"Type\"] == 1].groupby(\"SKU\")[\"Quantity\"].sum().sort_values(ascending=False).head(5)\n",
    "axes[0].bar(top5_type1.index.astype(str), top5_type1.values, color='deepskyblue')\n",
    "axes[0].set_title(\"TOP-5 SKU по Quantity (Type = 1)\")\n",
    "axes[0].set_xlabel(\"SKU\")\n",
    "axes[0].set_ylabel(\"Quantity\")\n",
    "top5_type2 = data_AvB[data_AvB[\"Type\"] == 2].groupby(\"SKU\")[\"Quantity\"].sum().sort_values(ascending=False).head(5)\n",
    "axes[1].bar(top5_type2.index.astype(str), top5_type2.values, color='orange')\n",
    "axes[1].set_title(\"TOP-5 SKU по Quantity (Type = 2)\")\n",
    "axes[1].set_xlabel(\"SKU\")\n",
    "axes[1].set_ylabel(\"Quantity\")\n",
    "plt.tight_layout()\n",
    "plt.show();"
   ]
  },
  {
   "cell_type": "markdown",
   "id": "158eac1f-433c-41ff-9d04-0fff7a4c962b",
   "metadata": {},
   "source": [
    "# Дополнительные вопросы:"
   ]
  },
  {
   "cell_type": "markdown",
   "id": "cbb5f121-d3f0-4a3e-a377-66a1b1d78a78",
   "metadata": {},
   "source": [
    "1. Что наиболее вероятно означает переменная type_good?\n",
    "\n",
    "2. Какие ты знаешь другие функции в pandas, позволяющие создавать столбцы по примеру* type_good?\n",
    "\n",
    "3. *Как корректно проверить связь между Time_after_prev (временем, которое прошло с момента покупки предыдущего товара) и Price (ценой товара)? Есть ли потенциальные проблемы в данных, и если да, как их можно решить? Можешь ли найти, с чем связано увеличение Time_after_prev для некоторых товаров?\n",
    "\n",
    "4. **Как ты считаешь, чем именно вызвана разница в продажах с 1 стеллажа для 1 и 2 типа выкладки?\n",
    "\n",
    "*P.S. Составители ТЗ приносят извинения за не самую удачную не-гуглящуюся формулировку."
   ]
  },
  {
   "cell_type": "markdown",
   "id": "d9f28382-e0cc-405b-8cd2-0eca0f0f8087",
   "metadata": {},
   "source": [
    "**1. Что наиболее вероятно означает переменная type_good**  \n",
    "type_good — это тип товара, скорее всего, означает категорию товара (их всего три - 0, 1 и 2), которую хотели протестировать, например, насколько новый продукт, премиальность и т.д.  \n",
    "\n",
    "**2. Какие ты знаешь другие функции в pandas, позволяющие создавать столбцы по примеру type_good?**  \n",
    "df['new_col'] = df['col1'] + df['col2'] — арифметика по столбцам  \n",
    "df['new_col'] = df['col'].apply(lambda x:...) — применение функции к значениям  \n",
    "df['new_col'] = np.where(...) — условные конструкции  \n",
    "df['new_col'] = df['col'].map(словарь) — отображение по словарю  \n",
    "\n",
    "**3. Как корректно проверить связь между Time_after_prev и Price? Есть ли потенциальные проблемы в данных?**  \n",
    "Можно посчитать корреляцию:\n",
    "df[['Time_after_prev', 'Price']].corr()\n",
    "\n",
    "Построить scatterplot:\n",
    "sns.scatterplot(x='Price', y='Time_after_prev', data=df)', y='Time_after_prev', data=df)\n",
    "\n",
    "**Потенциальные проблемы:**\n",
    "Возможны выбросы в Price и Time_after_prev\n",
    "Time_after_prev может быть не только следствием высокой цены, но и перемещением к другому стеллажу, долгим выбором, перегрузкой покупателя.\n",
    "\n",
    "**4. Как ты считаешь, чем вызвана разница в продажах с 1 стеллажа для 1 и 2 типа выкладки?**  \n",
    "Возможные гипотезы: \n",
    "- В Type 1 изменили расположение товаров — популярные товары стали заметнее. \n",
    "- Могло быть изменение ассортимента или замена товаров на более привлекательные. \n",
    "- Повлияло визуальное оформление или плотность выкладки. \n",
    "- Возможно, пользователи в Type 2 были менее вовлечены, в отличие от Type 1. \n",
    "- A/B разница могла быть вызвана комбинацией факторов: физическим расположением, восприятием упаковки, вовлечённостью покупателя и изменениями в ассортименте."
   ]
  },
  {
   "cell_type": "code",
   "execution_count": null,
   "id": "40b369d9-1269-4d7d-a144-84490e368656",
   "metadata": {},
   "outputs": [],
   "source": []
  }
 ],
 "metadata": {
  "kernelspec": {
   "display_name": "Python 3 (ipykernel)",
   "language": "python",
   "name": "python3"
  },
  "language_info": {
   "codemirror_mode": {
    "name": "ipython",
    "version": 3
   },
   "file_extension": ".py",
   "mimetype": "text/x-python",
   "name": "python",
   "nbconvert_exporter": "python",
   "pygments_lexer": "ipython3",
   "version": "3.12.7"
  },
  "toc": {
   "base_numbering": 1,
   "nav_menu": {},
   "number_sections": true,
   "sideBar": true,
   "skip_h1_title": false,
   "title_cell": "Оглавление",
   "title_sidebar": "Оглавление",
   "toc_cell": true,
   "toc_position": {
    "height": "calc(100% - 180px)",
    "left": "10px",
    "top": "150px",
    "width": "341.333px"
   },
   "toc_section_display": true,
   "toc_window_display": true
  }
 },
 "nbformat": 4,
 "nbformat_minor": 5
}
